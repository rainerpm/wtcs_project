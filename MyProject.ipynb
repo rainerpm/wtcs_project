{
  "nbformat": 4,
  "nbformat_minor": 0,
  "metadata": {
    "colab": {
      "name": "MyProject.ipynb",
      "provenance": [],
      "authorship_tag": "ABX9TyOpuQrh0yYny/YFCc7L6aZy",
      "include_colab_link": true
    },
    "kernelspec": {
      "name": "python3",
      "display_name": "Python 3"
    },
    "language_info": {
      "name": "python"
    }
  },
  "cells": [
    {
      "cell_type": "markdown",
      "metadata": {
        "id": "view-in-github",
        "colab_type": "text"
      },
      "source": [
        "<a href=\"https://colab.research.google.com/github/rainerpm/wtcs_project/blob/main/MyProject.ipynb\" target=\"_parent\"><img src=\"https://colab.research.google.com/assets/colab-badge.svg\" alt=\"Open In Colab\"/></a>"
      ]
    },
    {
      "cell_type": "code",
      "metadata": {
        "id": "k3bS3K3yem5I",
        "outputId": "87e82dd3-422c-4c5a-bf5f-fd3a795a7917",
        "colab": {
          "base_uri": "https://localhost:8080/"
        }
      },
      "source": [
        "import requests\n",
        "\n",
        "url = \"https://api.covid19api.com/\"\n",
        "countriesJson = requests.get(url + \"countries\")\n",
        "countries = countriesJson.json()   # list of country dictionaries\n",
        "print(len(countries))\n",
        "# for country in countries:\n",
        "#   print(country[\"Country\"])\n",
        "oneCountry = countries[9]\n",
        "print(f'{oneCountry[\"Country\"]} use {oneCountry[\"Slug\"]} in URL')\n",
        "\n",
        "dayOneJSON = requests.get(url + \"dayone/{oneCountry[\"Slug\"]}/status/\")\n",
        "\n"
      ],
      "execution_count": 15,
      "outputs": [
        {
          "output_type": "stream",
          "text": [
            "248\n",
            "Costa Rica use costa-rica in URL\n"
          ],
          "name": "stdout"
        }
      ]
    }
  ]
}